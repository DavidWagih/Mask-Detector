{
 "cells": [
  {
   "cell_type": "markdown",
   "id": "2a5f4c77",
   "metadata": {},
   "source": [
    "# Face Mask Detector"
   ]
  },
  {
   "cell_type": "markdown",
   "id": "6ad480dc",
   "metadata": {},
   "source": [
    "## #1 - Training the COVID-19 face mask detector with Keras/TensorFlow"
   ]
  },
  {
   "cell_type": "code",
   "execution_count": 1,
   "id": "71385589",
   "metadata": {},
   "outputs": [],
   "source": [
    "# Import the necessary packages\n",
    "from tensorflow.keras.preprocessing.image import ImageDataGenerator\n",
    "from tensorflow.keras.applications import MobileNetV2\n",
    "from tensorflow.keras.layers import AveragePooling2D\n",
    "from tensorflow.keras.layers import Dropout\n",
    "from tensorflow.keras.layers import Flatten\n",
    "from tensorflow.keras.layers import Dense\n",
    "from tensorflow.keras.layers import Input\n",
    "from tensorflow.keras.models import Model\n",
    "from tensorflow.keras.optimizers import Adam\n",
    "from tensorflow.keras.applications.mobilenet_v2 import preprocess_input\n",
    "from tensorflow.keras.preprocessing.image import img_to_array\n",
    "from tensorflow.keras.preprocessing.image import load_img\n",
    "from tensorflow.keras.utils import to_categorical\n",
    "from sklearn.preprocessing import LabelBinarizer\n",
    "from sklearn.model_selection import train_test_split\n",
    "from sklearn.metrics import classification_report\n",
    "from imutils import paths\n",
    "import matplotlib.pyplot as plt\n",
    "import numpy as np\n",
    "import argparse\n",
    "import os"
   ]
  },
  {
   "cell_type": "code",
   "execution_count": null,
   "id": "8115d14d",
   "metadata": {},
   "outputs": [],
   "source": [
    "# # Construct the argument parser and parse the arguments\n",
    "# ap = argparse.ArgumentParser()\n",
    "# ap.add_argument(\"-a\", \"--masked-dataset\", required=True,\n",
    "#     help=\"path to masked dataset\")\n",
    "# ap.add_argument(\"-b\", \"--unmasked-dataset\", required=True,\n",
    "#     help=\"path to unmasked dataset\")\n",
    "# ap.add_argument(\"-d\", \"--dataset\", required=True,\n",
    "#     help=\"path to input dataset\")\n",
    "# ap.add_argument(\"-p\", \"--plot\", type=str, default=\"loss_accuracy.png\",\n",
    "#     help=\"path to output loss/accuracy plot\")\n",
    "# ap.add_argument(\"-m\", \"--model\", type=str,\n",
    "#     default=\"mask_detector.model\",\n",
    "#     help=\"path to output face mask detector model\")\n",
    "# args = vars(ap.parse_args())"
   ]
  },
  {
   "cell_type": "code",
   "execution_count": 2,
   "id": "9d14e26f",
   "metadata": {},
   "outputs": [],
   "source": [
    "# Construct the argument parser and parse the arguments\n",
    "args = dict()\n",
    "args['masked_dataset_path'] = os.getcwd()+'/dataset/masked-images-64'\n",
    "args['unmasked_dataset_path'] = os.getcwd()+'/dataset/unmasked-images-64'\n",
    "args['model'] = 'mask_detector.model'\n",
    "args['plot'] = 'loss_accuracy.png'"
   ]
  },
  {
   "cell_type": "code",
   "execution_count": 3,
   "id": "7afc6885",
   "metadata": {},
   "outputs": [],
   "source": [
    "# Initialize learning rate,epochs number and batch size\n",
    "LEARNING_RATE = 1e-4\n",
    "NUM_EPOCHS = 20\n",
    "BATCH_SIZE = 32"
   ]
  },
  {
   "cell_type": "markdown",
   "id": "7ca87141",
   "metadata": {},
   "source": [
    "### 64x64 Images"
   ]
  },
  {
   "cell_type": "code",
   "execution_count": 4,
   "id": "9ba3b85c",
   "metadata": {},
   "outputs": [
    {
     "name": "stdout",
     "output_type": "stream",
     "text": [
      "[INFO] loading images...\n"
     ]
    }
   ],
   "source": [
    "# Loading dataset\n",
    "print(\"[INFO] loading images...\")\n",
    "\n",
    "data = []\n",
    "labels = []\n",
    "\n",
    "for image_path in list(paths.list_images(args['masked_dataset_path'])):\n",
    "    # Load the input image (64x64) and preprocess it\n",
    "    image = load_img(image_path, target_size=(64, 64))\n",
    "    image = img_to_array(image)\n",
    "    image = preprocess_input(image)\n",
    "    data.append(image)\n",
    "    labels.append('masked')\n",
    "for image_path in list(paths.list_images(args['unmasked_dataset_path'])):\n",
    "    # Load the input image (64x64) and preprocess it\n",
    "    image = load_img(image_path, target_size=(64, 64))\n",
    "    image = img_to_array(image)\n",
    "    image = preprocess_input(image) # Scaling the pixel intensities in the input image to the range [-1, 1]\n",
    "    data.append(image)\n",
    "    labels.append('unmasked')\n",
    "\n",
    "# convert the data and labels to NumPy arrays\n",
    "data = np.array(data, dtype=\"float32\")\n",
    "labels = np.array(labels)"
   ]
  },
  {
   "cell_type": "code",
   "execution_count": 5,
   "id": "b313feb1",
   "metadata": {},
   "outputs": [],
   "source": [
    "# Perform one-hot encoding on the labels\n",
    "lb = LabelBinarizer()\n",
    "labels = lb.fit_transform(labels)\n",
    "labels = to_categorical(labels)"
   ]
  },
  {
   "cell_type": "code",
   "execution_count": 6,
   "id": "3fb308f4",
   "metadata": {},
   "outputs": [],
   "source": [
    "# Partition the data into training and testing splits using 80% of\n",
    "# the data for training and the remaining 20% for testing\n",
    "(X_train, X_test, y_train, y_test) = train_test_split(data, labels, test_size=0.20, stratify=labels, random_state=42)"
   ]
  },
  {
   "cell_type": "code",
   "execution_count": 7,
   "id": "9b870313",
   "metadata": {},
   "outputs": [],
   "source": [
    "# Construct the training image generator to generate batches of tensor image data with real-time data\n",
    "# augmentation\n",
    "# During training, we’ll be applying on-the-fly mutations to our images in an effort to improve generalization\n",
    "aug = ImageDataGenerator(\n",
    "    rotation_range=20,\n",
    "    zoom_range=0.15,\n",
    "    width_shift_range=0.2,\n",
    "    height_shift_range=0.2,\n",
    "    shear_range=0.15,\n",
    "    horizontal_flip=True,\n",
    "    fill_mode=\"nearest\")"
   ]
  },
  {
   "cell_type": "code",
   "execution_count": 8,
   "id": "690b332c",
   "metadata": {},
   "outputs": [
    {
     "name": "stdout",
     "output_type": "stream",
     "text": [
      "WARNING:tensorflow:`input_shape` is undefined or non-square, or `rows` is not in [96, 128, 160, 192, 224]. Weights for input shape (224, 224) will be loaded as the default.\n"
     ]
    }
   ],
   "source": [
    "# Load the MobileNetV2 network, ensuring the head FC layer sets are left off\n",
    "base_model = MobileNetV2(weights=\"imagenet\", include_top=False, input_tensor=Input(shape=(64, 64, 3)))\n",
    "\n",
    "# Construct the head of the model that will be placed on top of the the base model\n",
    "head_model = base_model.output\n",
    "head_model = Flatten(name=\"flatten\")(head_model)\n",
    "head_model = Dense(128, activation=\"relu\")(head_model)\n",
    "head_model = Dropout(0.5)(head_model)\n",
    "head_model = Dense(2, activation=\"softmax\")(head_model)\n",
    "\n",
    "# Place the head FC model on top of the base model\n",
    "model = Model(inputs=base_model.input, outputs=head_model)\n",
    "\n",
    "# Loop over all layers in the base model and freeze them so they will *not* be updated during the first\n",
    "# training process\n",
    "for layer in base_model.layers:\n",
    "    layer.trainable = False"
   ]
  },
  {
   "cell_type": "code",
   "execution_count": 9,
   "id": "0611882a",
   "metadata": {},
   "outputs": [
    {
     "name": "stdout",
     "output_type": "stream",
     "text": [
      "[INFO] compiling model...\n"
     ]
    },
    {
     "name": "stderr",
     "output_type": "stream",
     "text": [
      "/Users/alansary/miniforge3/envs/tensorflow/lib/python3.9/site-packages/keras/optimizer_v2/adam.py:105: UserWarning: The `lr` argument is deprecated, use `learning_rate` instead.\n",
      "  super(Adam, self).__init__(name, **kwargs)\n"
     ]
    }
   ],
   "source": [
    "# Compile our model\n",
    "print(\"[INFO] compiling model...\")\n",
    "opt = Adam(lr=LEARNING_RATE, decay=LEARNING_RATE / NUM_EPOCHS)\n",
    "model.compile(loss=\"binary_crossentropy\", optimizer=opt, metrics=[\"accuracy\"])"
   ]
  },
  {
   "cell_type": "code",
   "execution_count": 10,
   "id": "ef0058ed",
   "metadata": {
    "scrolled": false
   },
   "outputs": [
    {
     "name": "stdout",
     "output_type": "stream",
     "text": [
      "[INFO] training head...\n",
      "Epoch 1/20\n",
      "38/38 [==============================] - 3s 39ms/step - loss: 0.7694 - accuracy: 0.6188 - val_loss: 0.5964 - val_accuracy: 0.6839\n",
      "Epoch 2/20\n",
      "38/38 [==============================] - 1s 23ms/step - loss: 0.6591 - accuracy: 0.6586 - val_loss: 0.5656 - val_accuracy: 0.6968\n",
      "Epoch 3/20\n",
      "38/38 [==============================] - 1s 23ms/step - loss: 0.6028 - accuracy: 0.6910 - val_loss: 0.5468 - val_accuracy: 0.7194\n",
      "Epoch 4/20\n",
      "38/38 [==============================] - 1s 23ms/step - loss: 0.5843 - accuracy: 0.7110 - val_loss: 0.5347 - val_accuracy: 0.7290\n",
      "Epoch 5/20\n",
      "38/38 [==============================] - 1s 22ms/step - loss: 0.5797 - accuracy: 0.7143 - val_loss: 0.5273 - val_accuracy: 0.7290\n",
      "Epoch 6/20\n",
      "38/38 [==============================] - 1s 23ms/step - loss: 0.5612 - accuracy: 0.7193 - val_loss: 0.5189 - val_accuracy: 0.7387\n",
      "Epoch 7/20\n",
      "38/38 [==============================] - 1s 23ms/step - loss: 0.5664 - accuracy: 0.7251 - val_loss: 0.5135 - val_accuracy: 0.7419\n",
      "Epoch 8/20\n",
      "38/38 [==============================] - 1s 24ms/step - loss: 0.5373 - accuracy: 0.7583 - val_loss: 0.5022 - val_accuracy: 0.7645\n",
      "Epoch 9/20\n",
      "38/38 [==============================] - 1s 23ms/step - loss: 0.5383 - accuracy: 0.7301 - val_loss: 0.4957 - val_accuracy: 0.7452\n",
      "Epoch 10/20\n",
      "38/38 [==============================] - 1s 25ms/step - loss: 0.5182 - accuracy: 0.7508 - val_loss: 0.4969 - val_accuracy: 0.7452\n",
      "Epoch 11/20\n",
      "38/38 [==============================] - 1s 25ms/step - loss: 0.5020 - accuracy: 0.7724 - val_loss: 0.4950 - val_accuracy: 0.7581\n",
      "Epoch 12/20\n",
      "38/38 [==============================] - 1s 23ms/step - loss: 0.4952 - accuracy: 0.7575 - val_loss: 0.4871 - val_accuracy: 0.7484\n",
      "Epoch 13/20\n",
      "38/38 [==============================] - 1s 22ms/step - loss: 0.4951 - accuracy: 0.7683 - val_loss: 0.4855 - val_accuracy: 0.7581\n",
      "Epoch 14/20\n",
      "38/38 [==============================] - 1s 22ms/step - loss: 0.4928 - accuracy: 0.7782 - val_loss: 0.4845 - val_accuracy: 0.7742\n",
      "Epoch 15/20\n",
      "38/38 [==============================] - 1s 23ms/step - loss: 0.4882 - accuracy: 0.7791 - val_loss: 0.4931 - val_accuracy: 0.7613\n",
      "Epoch 16/20\n",
      "38/38 [==============================] - 1s 24ms/step - loss: 0.4775 - accuracy: 0.7799 - val_loss: 0.4879 - val_accuracy: 0.7226\n",
      "Epoch 17/20\n",
      "38/38 [==============================] - 1s 25ms/step - loss: 0.4702 - accuracy: 0.7716 - val_loss: 0.4932 - val_accuracy: 0.7548\n",
      "Epoch 18/20\n",
      "38/38 [==============================] - 1s 24ms/step - loss: 0.4666 - accuracy: 0.7915 - val_loss: 0.4880 - val_accuracy: 0.7258\n",
      "Epoch 19/20\n",
      "38/38 [==============================] - 1s 23ms/step - loss: 0.4685 - accuracy: 0.7782 - val_loss: 0.4861 - val_accuracy: 0.7226\n",
      "Epoch 20/20\n",
      "38/38 [==============================] - 1s 24ms/step - loss: 0.4472 - accuracy: 0.7990 - val_loss: 0.4852 - val_accuracy: 0.7323\n"
     ]
    }
   ],
   "source": [
    "# Train the head of the network\n",
    "print(\"[INFO] training head...\")\n",
    "history = model.fit(\n",
    "    aug.flow(X_train, y_train, batch_size=BATCH_SIZE),\n",
    "    steps_per_epoch=len(X_train) // BATCH_SIZE,\n",
    "    validation_data=(X_test, y_test),\n",
    "    validation_steps=len(X_test) // BATCH_SIZE,\n",
    "    epochs=NUM_EPOCHS)"
   ]
  },
  {
   "cell_type": "code",
   "execution_count": 11,
   "id": "0976ca1d",
   "metadata": {
    "scrolled": true
   },
   "outputs": [
    {
     "name": "stdout",
     "output_type": "stream",
     "text": [
      "[INFO] evaluating network...\n",
      "              precision    recall  f1-score   support\n",
      "\n",
      "      masked       0.70      0.66      0.68       133\n",
      "    unmasked       0.76      0.79      0.77       177\n",
      "\n",
      "    accuracy                           0.73       310\n",
      "   macro avg       0.73      0.72      0.72       310\n",
      "weighted avg       0.73      0.73      0.73       310\n",
      "\n",
      "[INFO] saving mask detector model...\n"
     ]
    },
    {
     "name": "stderr",
     "output_type": "stream",
     "text": [
      "/Users/alansary/miniforge3/envs/tensorflow/lib/python3.9/site-packages/keras/engine/functional.py:1410: CustomMaskWarning: Custom mask layers require a config and must override get_config. When loading, the custom mask layer must be passed to the custom_objects argument.\n",
      "  layer_config = serialize_layer_fn(layer)\n"
     ]
    }
   ],
   "source": [
    "# Make predictions on the testing set\n",
    "print(\"[INFO] evaluating network...\")\n",
    "pred_idxs = model.predict(X_test, batch_size=BATCH_SIZE)\n",
    "\n",
    "# For each image in the testing set we need to find the index of the\n",
    "# label with corresponding largest predicted probability\n",
    "pred_idxs = np.argmax(pred_idxs, axis=1)\n",
    "\n",
    "# Classification report\n",
    "print(classification_report(y_test.argmax(axis=1), pred_idxs, target_names=lb.classes_))\n",
    "\n",
    "# Serialize the model to disk\n",
    "print(\"[INFO] saving mask detector model...\")\n",
    "model.save(args['model'], save_format=\"h5\")"
   ]
  },
  {
   "cell_type": "code",
   "execution_count": 12,
   "id": "fcdb5393",
   "metadata": {
    "scrolled": true
   },
   "outputs": [
    {
     "data": {
      "image/png": "[encoded data removed]",
      "text/plain": [
       "<Figure size 432x288 with 1 Axes>"
      ]
     },
     "metadata": {},
     "output_type": "display_data"
    }
   ],
   "source": [
    "# Plot the training loss and accuracy\n",
    "plt.style.use(\"ggplot\")\n",
    "plt.figure()\n",
    "plt.plot(np.arange(0, NUM_EPOCHS), history.history[\"loss\"], label=\"train_loss\")\n",
    "plt.plot(np.arange(0, NUM_EPOCHS), history.history[\"val_loss\"], label=\"val_loss\")\n",
    "plt.plot(np.arange(0, NUM_EPOCHS), history.history[\"accuracy\"], label=\"train_acc\")\n",
    "plt.plot(np.arange(0, NUM_EPOCHS), history.history[\"val_accuracy\"], label=\"val_acc\")\n",
    "plt.title(\"Training Loss and Accuracy\")\n",
    "plt.xlabel(\"Epoch #\")\n",
    "plt.ylabel(\"Loss/Accuracy\")\n",
    "plt.legend(loc=\"lower left\")\n",
    "plt.savefig(args['plot'])"
   ]
  },
  {
   "cell_type": "markdown",
   "id": "5b442725",
   "metadata": {},
   "source": [
    "### 224x224 Images"
   ]
  },
  {
   "cell_type": "code",
   "execution_count": null,
   "id": "60ab70ba",
   "metadata": {},
   "outputs": [],
   "source": [
    "# To obain much better accuracy, we can refine our model by increasing the size of the image to 224x224\n",
    "# and applying average pooling of 7x7"
   ]
  },
  {
   "cell_type": "code",
   "execution_count": null,
   "id": "8e5973f0",
   "metadata": {},
   "outputs": [],
   "source": [
    "# # Construct the argument parser and parse the arguments\n",
    "# ap = argparse.ArgumentParser()\n",
    "# ap.add_argument(\"-a\", \"--masked-dataset\", required=True,\n",
    "#     help=\"path to masked dataset\")\n",
    "# ap.add_argument(\"-b\", \"--unmasked-dataset\", required=True,\n",
    "#     help=\"path to unmasked dataset\")\n",
    "# ap.add_argument(\"-d\", \"--dataset\", required=True,\n",
    "#     help=\"path to input dataset\")\n",
    "# ap.add_argument(\"-p\", \"--plot\", type=str, default=\"loss_accuracy.png\",\n",
    "#     help=\"path to output loss/accuracy plot\")\n",
    "# ap.add_argument(\"-m\", \"--model\", type=str,\n",
    "#     default=\"mask_detector.model\",\n",
    "#     help=\"path to output face mask detector model\")\n",
    "# args = vars(ap.parse_args())"
   ]
  },
  {
   "cell_type": "code",
   "execution_count": 15,
   "id": "5a3ca020",
   "metadata": {},
   "outputs": [],
   "source": [
    "# Construct the argument parser and parse the arguments\n",
    "args = dict()\n",
    "args['masked_dataset_path'] = os.getcwd()+'/dataset/masked-images'\n",
    "args['unmasked_dataset_path'] = os.getcwd()+'/dataset/unmasked-images'\n",
    "args['model'] = 'mask_detector_224x224.model'\n",
    "args['plot'] = 'loss_accuracy_224x224.png'"
   ]
  },
  {
   "cell_type": "code",
   "execution_count": 16,
   "id": "191eb675",
   "metadata": {},
   "outputs": [
    {
     "name": "stdout",
     "output_type": "stream",
     "text": [
      "[INFO] loading images...\n"
     ]
    },
    {
     "name": "stderr",
     "output_type": "stream",
     "text": [
      "/Users/alansary/miniforge3/envs/tensorflow/lib/python3.9/site-packages/PIL/Image.py:2918: DecompressionBombWarning: Image size (89981136 pixels) exceeds limit of 89478485 pixels, could be decompression bomb DOS attack.\n",
      "  warnings.warn(\n",
      "/Users/alansary/miniforge3/envs/tensorflow/lib/python3.9/site-packages/PIL/Image.py:2918: DecompressionBombWarning: Image size (133330000 pixels) exceeds limit of 89478485 pixels, could be decompression bomb DOS attack.\n",
      "  warnings.warn(\n",
      "/Users/alansary/miniforge3/envs/tensorflow/lib/python3.9/site-packages/PIL/Image.py:2918: DecompressionBombWarning: Image size (144000000 pixels) exceeds limit of 89478485 pixels, could be decompression bomb DOS attack.\n",
      "  warnings.warn(\n"
     ]
    }
   ],
   "source": [
    "# Loading dataset\n",
    "print(\"[INFO] loading images...\")\n",
    "\n",
    "data = []\n",
    "labels = []\n",
    "\n",
    "for image_path in list(paths.list_images(args['masked_dataset_path'])):\n",
    "    # Load the input image (224x224) and preprocess it\n",
    "    image = load_img(image_path, target_size=(224, 224))\n",
    "    image = img_to_array(image)\n",
    "    image = preprocess_input(image)\n",
    "    data.append(image)\n",
    "    labels.append('masked')\n",
    "for image_path in list(paths.list_images(args['unmasked_dataset_path'])):\n",
    "    # Load the input image (224x224) and preprocess it\n",
    "    image = load_img(image_path, target_size=(224, 224))\n",
    "    image = img_to_array(image)\n",
    "    image = preprocess_input(image) # Scaling the pixel intensities in the input image to the range [-1, 1]\n",
    "    data.append(image)\n",
    "    labels.append('unmasked')\n",
    "\n",
    "# convert the data and labels to NumPy arrays\n",
    "data = np.array(data, dtype=\"float32\")\n",
    "labels = np.array(labels)"
   ]
  },
  {
   "cell_type": "code",
   "execution_count": 17,
   "id": "5de933b7",
   "metadata": {},
   "outputs": [],
   "source": [
    "# Perform one-hot encoding on the labels\n",
    "lb = LabelBinarizer()\n",
    "labels = lb.fit_transform(labels)\n",
    "labels = to_categorical(labels)"
   ]
  },
  {
   "cell_type": "code",
   "execution_count": 18,
   "id": "4d94fa9d",
   "metadata": {},
   "outputs": [],
   "source": [
    "# Partition the data into training and testing splits using 80% of\n",
    "# the data for training and the remaining 20% for testing\n",
    "(X_train, X_test, y_train, y_test) = train_test_split(data, labels, test_size=0.20, stratify=labels, random_state=42)"
   ]
  },
  {
   "cell_type": "code",
   "execution_count": 19,
   "id": "907f788e",
   "metadata": {},
   "outputs": [],
   "source": [
    "# Construct the training image generator to generate batches of tensor image data with real-time data\n",
    "# augmentation\n",
    "# During training, we’ll be applying on-the-fly mutations to our images in an effort to improve generalization\n",
    "aug = ImageDataGenerator(\n",
    "    rotation_range=20,\n",
    "    zoom_range=0.15,\n",
    "    width_shift_range=0.2,\n",
    "    height_shift_range=0.2,\n",
    "    shear_range=0.15,\n",
    "    horizontal_flip=True,\n",
    "    fill_mode=\"nearest\")"
   ]
  },
  {
   "cell_type": "code",
   "execution_count": 20,
   "id": "1e2a4f50",
   "metadata": {},
   "outputs": [
    {
     "name": "stdout",
     "output_type": "stream",
     "text": [
      "WARNING:tensorflow:`input_shape` is undefined or non-square, or `rows` is not in [96, 128, 160, 192, 224]. Weights for input shape (224, 224) will be loaded as the default.\n"
     ]
    }
   ],
   "source": [
    "# Load the MobileNetV2 network, ensuring the head FC layer sets are left off\n",
    "base_model = MobileNetV2(weights=\"imagenet\", include_top=False, input_tensor=Input(shape=(224, 224, 3)))\n",
    "\n",
    "# Construct the head of the model that will be placed on top of the the base model\n",
    "head_model = base_model.output\n",
    "head_model = AveragePooling2D(pool_size=(7, 7))(head_model)\n",
    "head_model = Flatten(name=\"flatten\")(head_model)\n",
    "head_model = Dense(128, activation=\"relu\")(head_model)\n",
    "head_model = Dropout(0.5)(head_model)\n",
    "head_model = Dense(2, activation=\"softmax\")(head_model)\n",
    "\n",
    "# Place the head FC model on top of the base model\n",
    "model = Model(inputs=base_model.input, outputs=head_model)\n",
    "\n",
    "# Loop over all layers in the base model and freeze them so they will *not* be updated during the first\n",
    "# training process\n",
    "for layer in base_model.layers:\n",
    "    layer.trainable = False"
   ]
  },
  {
   "cell_type": "code",
   "execution_count": 21,
   "id": "093f7aa4",
   "metadata": {},
   "outputs": [
    {
     "name": "stdout",
     "output_type": "stream",
     "text": [
      "[INFO] compiling model...\n"
     ]
    },
    {
     "name": "stderr",
     "output_type": "stream",
     "text": [
      "/Users/alansary/miniforge3/envs/tensorflow/lib/python3.9/site-packages/keras/optimizer_v2/adam.py:105: UserWarning: The `lr` argument is deprecated, use `learning_rate` instead.\n",
      "  super(Adam, self).__init__(name, **kwargs)\n"
     ]
    }
   ],
   "source": [
    "# Compile our model\n",
    "print(\"[INFO] compiling model...\")\n",
    "opt = Adam(lr=LEARNING_RATE, decay=LEARNING_RATE / NUM_EPOCHS)\n",
    "model.compile(loss=\"binary_crossentropy\", optimizer=opt, metrics=[\"accuracy\"])"
   ]
  },
  {
   "cell_type": "code",
   "execution_count": 22,
   "id": "f96aadda",
   "metadata": {},
   "outputs": [
    {
     "name": "stdout",
     "output_type": "stream",
     "text": [
      "[INFO] training head...\n",
      "Epoch 1/20\n",
      "38/38 [==============================] - 10s 222ms/step - loss: 0.7632 - accuracy: 0.5540 - val_loss: 0.5784 - val_accuracy: 0.7613\n",
      "Epoch 2/20\n",
      "38/38 [==============================] - 8s 205ms/step - loss: 0.5828 - accuracy: 0.7342 - val_loss: 0.4818 - val_accuracy: 0.8161\n",
      "Epoch 3/20\n",
      "38/38 [==============================] - 9s 234ms/step - loss: 0.4985 - accuracy: 0.7965 - val_loss: 0.4164 - val_accuracy: 0.8548\n",
      "Epoch 4/20\n",
      "38/38 [==============================] - 8s 200ms/step - loss: 0.4262 - accuracy: 0.8397 - val_loss: 0.3698 - val_accuracy: 0.8806\n",
      "Epoch 5/20\n",
      "38/38 [==============================] - 8s 211ms/step - loss: 0.3752 - accuracy: 0.8704 - val_loss: 0.3363 - val_accuracy: 0.8839\n",
      "Epoch 6/20\n",
      "38/38 [==============================] - 8s 199ms/step - loss: 0.3561 - accuracy: 0.8663 - val_loss: 0.3124 - val_accuracy: 0.8935\n",
      "Epoch 7/20\n",
      "38/38 [==============================] - 8s 212ms/step - loss: 0.3305 - accuracy: 0.8754 - val_loss: 0.2966 - val_accuracy: 0.8968\n",
      "Epoch 8/20\n",
      "38/38 [==============================] - 8s 213ms/step - loss: 0.2991 - accuracy: 0.8837 - val_loss: 0.2808 - val_accuracy: 0.9000\n",
      "Epoch 9/20\n",
      "38/38 [==============================] - 8s 204ms/step - loss: 0.2870 - accuracy: 0.9003 - val_loss: 0.2685 - val_accuracy: 0.9226\n",
      "Epoch 10/20\n",
      "38/38 [==============================] - 8s 196ms/step - loss: 0.2803 - accuracy: 0.8929 - val_loss: 0.2690 - val_accuracy: 0.8903\n",
      "Epoch 11/20\n",
      "38/38 [==============================] - 8s 211ms/step - loss: 0.2640 - accuracy: 0.9020 - val_loss: 0.2519 - val_accuracy: 0.9129\n",
      "Epoch 12/20\n",
      "38/38 [==============================] - 8s 203ms/step - loss: 0.2722 - accuracy: 0.9020 - val_loss: 0.2470 - val_accuracy: 0.9161\n",
      "Epoch 13/20\n",
      "38/38 [==============================] - 8s 203ms/step - loss: 0.2559 - accuracy: 0.9045 - val_loss: 0.2522 - val_accuracy: 0.9032\n",
      "Epoch 14/20\n",
      "38/38 [==============================] - 8s 199ms/step - loss: 0.2502 - accuracy: 0.9103 - val_loss: 0.2434 - val_accuracy: 0.9065\n",
      "Epoch 15/20\n",
      "38/38 [==============================] - 8s 203ms/step - loss: 0.2323 - accuracy: 0.9136 - val_loss: 0.2498 - val_accuracy: 0.8968\n",
      "Epoch 16/20\n",
      "38/38 [==============================] - 8s 203ms/step - loss: 0.2230 - accuracy: 0.9228 - val_loss: 0.2379 - val_accuracy: 0.9097\n",
      "Epoch 17/20\n",
      "38/38 [==============================] - 8s 214ms/step - loss: 0.2332 - accuracy: 0.9145 - val_loss: 0.2385 - val_accuracy: 0.9032\n",
      "Epoch 18/20\n",
      "38/38 [==============================] - 8s 211ms/step - loss: 0.2167 - accuracy: 0.9186 - val_loss: 0.2389 - val_accuracy: 0.8968\n",
      "Epoch 19/20\n",
      "38/38 [==============================] - 9s 221ms/step - loss: 0.2242 - accuracy: 0.9111 - val_loss: 0.2300 - val_accuracy: 0.9097\n",
      "Epoch 20/20\n",
      "38/38 [==============================] - 8s 194ms/step - loss: 0.2156 - accuracy: 0.9244 - val_loss: 0.2280 - val_accuracy: 0.9097\n"
     ]
    }
   ],
   "source": [
    "# Train the head of the network\n",
    "print(\"[INFO] training head...\")\n",
    "history = model.fit(\n",
    "    aug.flow(X_train, y_train, batch_size=BATCH_SIZE),\n",
    "    steps_per_epoch=len(X_train) // BATCH_SIZE,\n",
    "    validation_data=(X_test, y_test),\n",
    "    validation_steps=len(X_test) // BATCH_SIZE,\n",
    "    epochs=NUM_EPOCHS)"
   ]
  },
  {
   "cell_type": "code",
   "execution_count": 23,
   "id": "70e50ef1",
   "metadata": {},
   "outputs": [
    {
     "name": "stdout",
     "output_type": "stream",
     "text": [
      "[INFO] evaluating network...\n",
      "              precision    recall  f1-score   support\n",
      "\n",
      "      masked       0.91      0.88      0.89       133\n",
      "    unmasked       0.91      0.93      0.92       177\n",
      "\n",
      "    accuracy                           0.91       310\n",
      "   macro avg       0.91      0.91      0.91       310\n",
      "weighted avg       0.91      0.91      0.91       310\n",
      "\n",
      "[INFO] saving mask detector model...\n"
     ]
    },
    {
     "name": "stderr",
     "output_type": "stream",
     "text": [
      "/Users/alansary/miniforge3/envs/tensorflow/lib/python3.9/site-packages/keras/engine/functional.py:1410: CustomMaskWarning: Custom mask layers require a config and must override get_config. When loading, the custom mask layer must be passed to the custom_objects argument.\n",
      "  layer_config = serialize_layer_fn(layer)\n"
     ]
    }
   ],
   "source": [
    "# Make predictions on the testing set\n",
    "print(\"[INFO] evaluating network...\")\n",
    "pred_idxs = model.predict(X_test, batch_size=BATCH_SIZE)\n",
    "\n",
    "# For each image in the testing set we need to find the index of the\n",
    "# label with corresponding largest predicted probability\n",
    "pred_idxs = np.argmax(pred_idxs, axis=1)\n",
    "\n",
    "# Classification report\n",
    "print(classification_report(y_test.argmax(axis=1), pred_idxs, target_names=lb.classes_))\n",
    "\n",
    "# Serialize the model to disk\n",
    "print(\"[INFO] saving mask detector model...\")\n",
    "model.save('mask_detector_224x224.model', save_format=\"h5\")"
   ]
  },
  {
   "cell_type": "code",
   "execution_count": 24,
   "id": "6c10e6e9",
   "metadata": {},
   "outputs": [
    {
     "data": {
      "image/png": "[encoded data removed]",
      "text/plain": [
       "<Figure size 432x288 with 1 Axes>"
      ]
     },
     "metadata": {},
     "output_type": "display_data"
    }
   ],
   "source": [
    "# Plot the training loss and accuracy\n",
    "plt.style.use(\"ggplot\")\n",
    "plt.figure()\n",
    "plt.plot(np.arange(0, NUM_EPOCHS), history.history[\"loss\"], label=\"train_loss\")\n",
    "plt.plot(np.arange(0, NUM_EPOCHS), history.history[\"val_loss\"], label=\"val_loss\")\n",
    "plt.plot(np.arange(0, NUM_EPOCHS), history.history[\"accuracy\"], label=\"train_acc\")\n",
    "plt.plot(np.arange(0, NUM_EPOCHS), history.history[\"val_accuracy\"], label=\"val_acc\")\n",
    "plt.title(\"Training Loss and Accuracy\")\n",
    "plt.xlabel(\"Epoch #\")\n",
    "plt.ylabel(\"Loss/Accuracy\")\n",
    "plt.legend(loc=\"lower left\")\n",
    "plt.savefig('loss_accuracy_224x224.png')"
   ]
  },
  {
   "cell_type": "markdown",
   "id": "380f97d1",
   "metadata": {},
   "source": [
    "## #2 - Implementing our COVID-19 face mask detector for images with OpenCV"
   ]
  },
  {
   "cell_type": "code",
   "execution_count": 25,
   "id": "41f1005d",
   "metadata": {},
   "outputs": [],
   "source": [
    "# Import the necessary packages\n",
    "from tensorflow.keras.applications.mobilenet_v2 import preprocess_input\n",
    "from tensorflow.keras.preprocessing.image import img_to_array\n",
    "from tensorflow.keras.models import load_model\n",
    "import numpy as np\n",
    "import argparse\n",
    "import cv2\n",
    "import os"
   ]
  },
  {
   "cell_type": "code",
   "execution_count": 26,
   "id": "4231fc63",
   "metadata": {},
   "outputs": [],
   "source": [
    "# # Construct the argument parser and parse the arguments\n",
    "# ap = argparse.ArgumentParser()\n",
    "# ap.add_argument(\"-i\", \"--image\", required=True,\n",
    "#     help=\"path to input image\")\n",
    "# ap.add_argument(\"-f\", \"--face\", type=str,\n",
    "#     help=\"path to face detector model directory\")\n",
    "# ap.add_argument(\"-m\", \"--model\", type=str,\n",
    "#     default=\"mask_detector_224x224.model\",\n",
    "#     help=\"path to trained face mask detector model\")\n",
    "# ap.add_argument(\"-c\", \"--confidence\", type=float, default=0.5,\n",
    "#     help=\"minimum probability to filter weak detections\")\n",
    "# args = vars(ap.parse_args())"
   ]
  },
  {
   "cell_type": "code",
   "execution_count": 86,
   "id": "7d79e63b",
   "metadata": {},
   "outputs": [],
   "source": [
    "# Construct the argument parser and parse the arguments\n",
    "args = dict()\n",
    "args['image'] = os.getcwd()+'/dataset/model_testing/mask_image.jpg'\n",
    "args['face'] = os.getcwd()+'/face_detector'\n",
    "args['model'] = 'mask_detector_224x224.model'\n",
    "args['confidence'] = 0.5"
   ]
  },
  {
   "cell_type": "code",
   "execution_count": 87,
   "id": "2d629db7",
   "metadata": {},
   "outputs": [
    {
     "name": "stdout",
     "output_type": "stream",
     "text": [
      "[INFO] loading face detector model...\n",
      "[INFO] loading face mask detector model...\n"
     ]
    }
   ],
   "source": [
    "# Load the serialized face detector model from disk\n",
    "print(\"[INFO] loading face detector model...\")\n",
    "prototxt_path = args['face'] + '/deploy.prototxt'\n",
    "weights_path = args['face'] + '/res10_300x300_ssd_iter_140000.caffemodel'\n",
    "net = cv2.dnn.readNet(prototxt_path, weights_path)\n",
    "\n",
    "# Load the face mask detector model from disk\n",
    "print(\"[INFO] loading face mask detector model...\")\n",
    "model = load_model(args[\"model\"])"
   ]
  },
  {
   "cell_type": "code",
   "execution_count": 88,
   "id": "191b9aa1",
   "metadata": {},
   "outputs": [
    {
     "name": "stdout",
     "output_type": "stream",
     "text": [
      "[INFO] computing face detections...\n"
     ]
    }
   ],
   "source": [
    "# Load the input image from disk, clone it, and grab the image spatial dimensions\n",
    "image = cv2.imread(args[\"image\"])\n",
    "original = image.copy()\n",
    "(h, w) = image.shape[:2]\n",
    "\n",
    "# Construct a blob from the image\n",
    "blob = cv2.dnn.blobFromImage(image, 1.0, (300, 300), (104.0, 177.0, 123.0))\n",
    "\n",
    "# Pass the blob through the network and obtain the face detections\n",
    "print(\"[INFO] computing face detections...\")\n",
    "net.setInput(blob)\n",
    "detections = net.forward()"
   ]
  },
  {
   "cell_type": "code",
   "execution_count": 89,
   "id": "30a93b25",
   "metadata": {},
   "outputs": [],
   "source": [
    "# Loop over the detections and extract the confidence to measure against the args confidence threshold\n",
    "for i in range(0, detections.shape[2]):\n",
    "    # Extract the confidence (i.e., probability) associated with the detection\n",
    "    confidence = detections[0, 0, i, 2]\n",
    "    # Filter out weak detections by ensuring the confidence is greater than the minimum confidence\n",
    "    if confidence > args[\"confidence\"]:\n",
    "        # Compute the (x, y)-coordinates of the bounding box for the object\n",
    "        box = detections[0, 0, i, 3:7] * np.array([w, h, w, h])\n",
    "        (startX, startY, endX, endY) = box.astype(\"int\")\n",
    "        # Ensure the bounding boxes fall within the dimensions of the frame\n",
    "        (startX, startY) = (max(0, startX), max(0, startY))\n",
    "        (endX, endY) = (min(w - 1, endX), min(h - 1, endY))"
   ]
  },
  {
   "cell_type": "code",
   "execution_count": 90,
   "id": "23334f91",
   "metadata": {},
   "outputs": [],
   "source": [
    "# Extract the face ROI, convert it from BGR to RGB channel\n",
    "# ordering, resize it to 224x224, and preprocess it\n",
    "\n",
    "face = image[startY:endY, startX:endX] # Extract the face ROI via NumPy slicing\n",
    "# Pre-process the ROI\n",
    "face = cv2.cvtColor(face, cv2.COLOR_BGR2RGB)\n",
    "face = cv2.resize(face, (224, 224))\n",
    "face = img_to_array(face)\n",
    "face = preprocess_input(face)\n",
    "face = np.expand_dims(face, axis=0)\n",
    "\n",
    "# Pass the face through the model to determine if the face has a mask or not\n",
    "(mask, without_mask) = model.predict(face)[0]"
   ]
  },
  {
   "cell_type": "code",
   "execution_count": 91,
   "id": "268d03b9",
   "metadata": {},
   "outputs": [
    {
     "data": {
      "text/plain": [
       "48"
      ]
     },
     "execution_count": 91,
     "metadata": {},
     "output_type": "execute_result"
    }
   ],
   "source": [
    "# Determine the class label and color we'll use to draw the bounding box and text\n",
    "label = \"Mask\" if mask > without_mask else \"No Mask\"\n",
    "color = (0, 255, 0) if label == \"Mask\" else (0, 0, 255)\n",
    "\n",
    "# Include the probability in the label\n",
    "label = \"{}: {:.2f}%\".format(label, max(mask, without_mask) * 100)\n",
    "\n",
    "# Display the label and bounding box rectangle on the output frame\n",
    "cv2.putText(image, label, (startX, startY - 10), cv2.FONT_HERSHEY_SIMPLEX, 0.45, color, 2)\n",
    "cv2.rectangle(image, (startX, startY), (endX, endY), color, 2)\n",
    "\n",
    "# show the output image\n",
    "cv2.imshow(\"Output\", image)\n",
    "cv2.waitKey(0)"
   ]
  },
  {
   "cell_type": "markdown",
   "id": "4c2af1e4",
   "metadata": {},
   "source": [
    "## #3 - Implementing our COVID-19 face mask detector in real-time video streams with OpenCV"
   ]
  },
  {
   "cell_type": "code",
   "execution_count": 1,
   "id": "fbe7d58d",
   "metadata": {},
   "outputs": [],
   "source": [
    "# Import the necessary packages\n",
    "from tensorflow.keras.applications.mobilenet_v2 import preprocess_input\n",
    "from tensorflow.keras.preprocessing.image import img_to_array\n",
    "from tensorflow.keras.models import load_model\n",
    "from imutils.video import VideoStream\n",
    "import numpy as np\n",
    "import argparse\n",
    "import imutils\n",
    "import time\n",
    "import cv2\n",
    "import os"
   ]
  },
  {
   "cell_type": "code",
   "execution_count": 9,
   "id": "cb20162c",
   "metadata": {},
   "outputs": [],
   "source": [
    "# This algorithm is the same as before but processes each frame of the webcam stream\n",
    "\n",
    "def detect_and_predict_mask(frame, face_net, mask_net):\n",
    "    \"\"\"\n",
    "    - frame: A frame from our stream\n",
    "    - face_net: The model used to detect where in the image faces are\n",
    "    - mask_net: Our COVID-19 face mask classifier model\n",
    "    \"\"\"\n",
    "    # Grab the dimensions of the frame and then construct a blob from it\n",
    "    (h, w) = frame.shape[:2]\n",
    "    blob = cv2.dnn.blobFromImage(frame, 1.0, (300, 300), (104.0, 177.0, 123.0))\n",
    "    # Pass the blob through the network and obtain the face detections\n",
    "    face_net.setInput(blob)\n",
    "    detections = face_net.forward()\n",
    "    # Initialize our list of faces, their corresponding locations,\n",
    "    # and the list of predictions from our face mask network\n",
    "    faces = [] # ROIs\n",
    "    locs = [] # Face locations\n",
    "    preds = [] # Mask/No-Mask predictions\n",
    "\n",
    "    # Loop over the detections\n",
    "    for i in range(0, detections.shape[2]):\n",
    "        # Extract the confidence (i.e., probability) associated with the detection\n",
    "        confidence = detections[0, 0, i, 2]\n",
    "\n",
    "        # Filter out weak detections by ensuring the confidence is greater than the minimum confidence\n",
    "        if confidence > args[\"confidence\"]:\n",
    "            # Compute the (x, y)-coordinates of the bounding box for the object\n",
    "            box = detections[0, 0, i, 3:7] * np.array([w, h, w, h])\n",
    "            (startX, startY, endX, endY) = box.astype(\"int\")\n",
    "\n",
    "            # Ensure the bounding boxes fall within the dimensions of the frame\n",
    "            (startX, startY) = (max(0, startX), max(0, startY))\n",
    "            (endX, endY) = (min(w - 1, endX), min(h - 1, endY))\n",
    "\n",
    "            # Extract the face ROI, convert it from BGR to RGB channel\n",
    "            # ordering, resize it to 224x224, and preprocess it\n",
    "            face = frame[startY:endY, startX:endX]\n",
    "            face = cv2.cvtColor(face, cv2.COLOR_BGR2RGB)\n",
    "            face = cv2.resize(face, (224, 224))\n",
    "            face = img_to_array(face)\n",
    "            face = preprocess_input(face)\n",
    "\n",
    "            # Add the face and bounding boxes to their respective lists\n",
    "            faces.append(face)\n",
    "            locs.append((startX, startY, endX, endY))\n",
    "\n",
    "    # Only make a predictions if at least one face was detected\n",
    "    if len(faces) > 0:\n",
    "        # For faster inference we'll make batch predictions on all\n",
    "        # faces at the same time rather than one-by-one predictions\n",
    "        # in the above `for` loop\n",
    "        faces = np.array(faces, dtype=\"float32\")\n",
    "        preds = mask_net.predict(faces, batch_size=32)\n",
    "\n",
    "    # Return a 2-tuple of the face locations and their corresponding locations\n",
    "    return (locs, preds)"
   ]
  },
  {
   "cell_type": "code",
   "execution_count": 3,
   "id": "1b873c85",
   "metadata": {},
   "outputs": [],
   "source": [
    "# # construct the argument parser and parse the arguments\n",
    "# ap = argparse.ArgumentParser()\n",
    "# ap.add_argument(\"-f\", \"--face\", type=str,\n",
    "#     help=\"path to face detector model directory\")\n",
    "# ap.add_argument(\"-m\", \"--model\", type=str,\n",
    "#     default=\"mask_detector.model\",\n",
    "#     help=\"path to trained face mask detector model\")\n",
    "# ap.add_argument(\"-c\", \"--confidence\", type=float, default=0.5,\n",
    "#     help=\"minimum probability to filter weak detections\")\n",
    "# args = vars(ap.parse_args())"
   ]
  },
  {
   "cell_type": "code",
   "execution_count": 11,
   "id": "f05ee5c0",
   "metadata": {},
   "outputs": [],
   "source": [
    "# Construct the argument parser and parse the arguments\n",
    "args = dict()\n",
    "args['face'] = os.getcwd()+'/face_detector'\n",
    "args['model'] = 'mask_detector_224x224.model'\n",
    "args['confidence'] = 0.5"
   ]
  },
  {
   "cell_type": "code",
   "execution_count": 12,
   "id": "ab39c291",
   "metadata": {},
   "outputs": [
    {
     "name": "stdout",
     "output_type": "stream",
     "text": [
      "[INFO] loading face detector model...\n",
      "[INFO] loading face mask detector model...\n"
     ]
    }
   ],
   "source": [
    "# Load the serialized face detector model from disk\n",
    "print(\"[INFO] loading face detector model...\")\n",
    "prototxt_path = args['face'] + '/deploy.prototxt'\n",
    "weights_path = args['face'] + '/res10_300x300_ssd_iter_140000.caffemodel'\n",
    "face_net = cv2.dnn.readNet(prototxt_path, weights_path)\n",
    "\n",
    "# Load the face mask detector model from disk\n",
    "print(\"[INFO] loading face mask detector model...\")\n",
    "mask_net = load_model(args[\"model\"])"
   ]
  },
  {
   "cell_type": "code",
   "execution_count": 18,
   "id": "c909ac8f",
   "metadata": {},
   "outputs": [
    {
     "name": "stdout",
     "output_type": "stream",
     "text": [
      "[INFO] starting video stream...\n"
     ]
    }
   ],
   "source": [
    "# Initialize the video stream and allow the camera sensor to warm up\n",
    "print(\"[INFO] starting video stream...\")\n",
    "vs = VideoStream(src=0).start()\n",
    "time.sleep(2.0)"
   ]
  },
  {
   "cell_type": "code",
   "execution_count": 19,
   "id": "6ac23a6c",
   "metadata": {},
   "outputs": [],
   "source": [
    "# Loop over the frames from the video stream\n",
    "while True:\n",
    "    # Grab the frame from the threaded video stream and resize it\n",
    "    # to have a maximum width of 400 pixels\n",
    "    frame = vs.read()\n",
    "    frame = imutils.resize(frame, width=800)\n",
    "    # Detect faces in the frame and determine if they are wearing a\n",
    "    # face mask or not\n",
    "    (locs, preds) = detect_and_predict_mask(frame, face_net, mask_net)\n",
    "\n",
    "    # Loop over the detected face locations and their corresponding locations\n",
    "    for (box, pred) in zip(locs, preds):\n",
    "        # Unpack the bounding box and predictions\n",
    "        (startX, startY, endX, endY) = box\n",
    "        (mask, without_mask) = pred\n",
    "        # Determine the class label and color we'll use to draw the bounding box and text\n",
    "        label = \"Mask\" if mask > without_mask else \"No Mask\"\n",
    "        color = (0, 255, 0) if label == \"Mask\" else (0, 0, 255)\n",
    "        # Include the probability in the label\n",
    "        label = \"{}: {:.2f}%\".format(label, max(mask, without_mask) * 100)\n",
    "        # Display the label and bounding box rectangle on the output frame\n",
    "        cv2.putText(frame, label, (startX, startY - 10),\n",
    "            cv2.FONT_HERSHEY_SIMPLEX, 0.45, color, 2)\n",
    "        cv2.rectangle(frame, (startX, startY), (endX, endY), color, 2)\n",
    "\n",
    "    # Show the output frame\n",
    "    cv2.imshow(\"Frame\", frame)\n",
    "    key = cv2.waitKey(1) & 0xFF\n",
    "    # if the `q` key was pressed, break from the loop\n",
    "    if key == ord(\"q\"):\n",
    "        break\n",
    "\n",
    "# Do a bit of cleanup\n",
    "cv2.destroyAllWindows()\n",
    "vs.stop()"
   ]
  },
  {
   "cell_type": "markdown",
   "id": "a77ba320",
   "metadata": {},
   "source": [
    "## Resources\n",
    "- A highly efficient architecture that can be applied to embedded devices with limited computational capacity (ex., Raspberry Pi, Google Coral, NVIDIA Jetson Nano, etc.). Deploying our face mask detector to embedded devices could reduce the cost of manufacturing such face mask detection systems.<br/>[MobileNetV2: Inverted Residuals and Linear Bottlenecks](https://arxiv.org/abs/1801.04381)\n",
    "- We will fine-tune this model with pre-trained ImageNet weights.<br/>[ImageNet](https://image-net.org/)\n",
    "- OpenCV’s deep learning face detector based on the Single Shot Detector (SSD) framework with a ResNet base network.<br/>[Caffe-based face detector](https://github.com/opencv/opencv/tree/master/samples/dnn/face_detector)\n",
    "<br/>[Caffe-based face detector .prototxt file which defines the model architecture](https://github.com/opencv/opencv/blob/master/samples/dnn/face_detector/deploy.prototxt)\n",
    "<br/>[Caffe-based face detector .caffemodel file which contains the weights for the actual layers](https://github.com/opencv/opencv_3rdparty/raw/dnn_samples_face_detector_20170830/res10_300x300_ssd_iter_140000.caffemodel)"
   ]
  },
  {
   "cell_type": "code",
   "execution_count": null,
   "id": "dc868e0f",
   "metadata": {},
   "outputs": [],
   "source": []
  }
 ],
 "metadata": {
  "kernelspec": {
   "display_name": "Python 3",
   "language": "python",
   "name": "python3"
  },
  "language_info": {
   "codemirror_mode": {
    "name": "ipython",
    "version": 3
   },
   "file_extension": ".py",
   "mimetype": "text/x-python",
   "name": "python",
   "nbconvert_exporter": "python",
   "pygments_lexer": "ipython3",
   "version": "3.9.2"
  }
 },
 "nbformat": 4,
 "nbformat_minor": 5
}
